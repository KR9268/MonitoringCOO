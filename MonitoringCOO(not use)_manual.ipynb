{
 "cells": [
  {
   "cell_type": "code",
   "execution_count": 1,
   "metadata": {},
   "outputs": [],
   "source": [
    "import win32com.client\n",
    "import subprocess\n",
    "import time\n",
    "import psutil\n",
    "from typing import TypeVar, Tuple, List, Optional, Dict\n",
    "import pandas as pd\n",
    "from urllib import parse\n",
    "from bs4 import BeautifulSoup\n",
    "import xlwings as xw\n",
    "import pickle\n",
    "import win11toast\n",
    "\n",
    "\n",
    "import NERP_PI_LC\n",
    "import MonitoringCOO_batch\n",
    "\n",
    "# 설정값 지정\n",
    "option_dict = MonitoringCOO_batch.option_dict\n",
    "# NERP 준비\n",
    "sessions = NERP_PI_LC.check_and_open_sap('SEP', 'kibok.park', 'qwer456456*',3)\n",
    "session = sessions[2]"
   ]
  },
  {
   "cell_type": "code",
   "execution_count": 7,
   "metadata": {},
   "outputs": [],
   "source": []
  },
  {
   "cell_type": "code",
   "execution_count": null,
   "metadata": {},
   "outputs": [],
   "source": [
    "# srlist pandas 읽기\n",
    "df_srlist = MonitoringCOO_batch.read_excel_to_dataframe(option_dict['srlist']['path'] + option_dict['srlist']['filename_main'])\n",
    "df_srlist"
   ]
  },
  {
   "cell_type": "code",
   "execution_count": 17,
   "metadata": {},
   "outputs": [
    {
     "data": {
      "text/plain": [
       "array([20230801, 20230802, 20230803, 20230804, 20230808, 20230809,\n",
       "       20230811, 20230814, 20230816, 20230817, 20230818, 20230821,\n",
       "       20230823, 20230824, 20230828, 20230829, 20230830, 20230831,\n",
       "       20230904, 20230905, 20230906, 20230907, 20230911, 20230912,\n",
       "       20230913, 20230914, 20230915, 20230918, 20230919, 20230920,\n",
       "       20230921, 20230922, 20230926, 20230927, 20230908, 20230925,\n",
       "       20231004, 20231005, 20231006, 20231010, 20231011, 20231012,\n",
       "       20231013, 20231016, 20231019, 20231023], dtype=int64)"
      ]
     },
     "execution_count": 17,
     "metadata": {},
     "output_type": "execute_result"
    }
   ],
   "source": [
    "# 날짜현황\n",
    "df_srlist['DocumentDate'].unique()"
   ]
  },
  {
   "cell_type": "code",
   "execution_count": null,
   "metadata": {},
   "outputs": [],
   "source": [
    "# status pandas 읽기\n",
    "df_status = MonitoringCOO_batch.read_excel_to_dataframe(option_dict['status']['path'] + option_dict['srlist']['filename_main'])\n",
    "df_status"
   ]
  },
  {
   "cell_type": "code",
   "execution_count": 18,
   "metadata": {},
   "outputs": [
    {
     "data": {
      "text/plain": [
       "array([20230801, 20230802, 20230803, 20230804, 20230808, 20230809,\n",
       "       20230811, 20230814, 20230816, 20230817, 20230818, 20230821,\n",
       "       20230823, 20230824, 20230828, 20230829, 20230830, 20230831,\n",
       "       20230904, 20230905, 20230906, 20230907, 20230911, 20230912,\n",
       "       20230913, 20230914, 20230915, 20230918, 20230919, 20230920,\n",
       "       20230921, 20230922, 20230926, 20230927, 20230908, 20230925,\n",
       "       20231004, 20231005, 20231006, 20231010, 20231011, 20231012,\n",
       "       20231013, 20231016, 20231019, 20231023], dtype=int64)"
      ]
     },
     "execution_count": 18,
     "metadata": {},
     "output_type": "execute_result"
    }
   ],
   "source": [
    "# 날짜현황\n",
    "df_status['DocumentDate'].unique()"
   ]
  },
  {
   "cell_type": "code",
   "execution_count": 3,
   "metadata": {},
   "outputs": [
    {
     "name": "stdout",
     "output_type": "stream",
     "text": [
      "(조회불가) C100 ['2023.10.20', '2023.10.23']추가건 없음\n",
      "(조회불가) C1X0 ['2023.10.20', '2023.10.23']추가건 없음\n",
      "(조회불가) C1X0 ['2023.10.20', '2023.10.23']추가건 없음\n"
     ]
    }
   ],
   "source": [
    "# db 수동업데이트\n",
    "date_value = ['2023.10.20','2023.10.23']\n",
    "main_srlist_df = MonitoringCOO_batch.view_chk_xmls(session, option_dict['srlist'], companyid='C100', date=date_value)\n",
    "main_srlist_df = MonitoringCOO_batch.view_chk_xmls(session, option_dict['srlist'], companyid='C1X0', date=date_value)\n",
    "main_status_df = MonitoringCOO_batch.view_chk_xmls(session, option_dict['status'], companyid='C100', date=date_value)\n",
    "main_status_df = MonitoringCOO_batch.view_chk_xmls(session, option_dict['status'], companyid='C1X0', date=date_value)"
   ]
  }
 ],
 "metadata": {
  "kernelspec": {
   "display_name": "Python 3",
   "language": "python",
   "name": "python3"
  },
  "language_info": {
   "codemirror_mode": {
    "name": "ipython",
    "version": 3
   },
   "file_extension": ".py",
   "mimetype": "text/x-python",
   "name": "python",
   "nbconvert_exporter": "python",
   "pygments_lexer": "ipython3",
   "version": "3.11.4"
  }
 },
 "nbformat": 4,
 "nbformat_minor": 2
}
